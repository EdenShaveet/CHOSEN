{
  "nbformat": 4,
  "nbformat_minor": 0,
  "metadata": {
    "colab": {
      "name": "CHOSEN.ipynb",
      "provenance": []
    },
    "kernelspec": {
      "name": "python3",
      "display_name": "Python 3"
    },
    "language_info": {
      "name": "python"
    }
  },
  "cells": [
    {
      "cell_type": "markdown",
      "source": [
        "##**COVID Home Safely Now (CHOSEN) Risk Score for COVID-19**"
      ],
      "metadata": {
        "id": "OPnp2TWVAoIy"
      }
    },
    {
      "cell_type": "markdown",
      "source": [
        "###About the Tool"
      ],
      "metadata": {
        "id": "5eFNlmgTBL4i"
      }
    },
    {
      "cell_type": "markdown",
      "source": [
        "CHOSEN is a clinical risk scoring system that was [developed](https://pubmed.ncbi.nlm.nih.gov/33274414/) to predict whether a patient with COVID in a monitored setting will need oxygen, need the ICU, or die in the next 14 days. \n",
        "\n",
        "While *not yet externally validated* for its original purposes, [one study](https://pubmed.ncbi.nlm.nih.gov/34799814/) suggests that CHOSEN may predict suitability for discharge in COVID-19 patients citing that CHOSEN scores: \n",
        "*   were significantly associated with mortality\n",
        "*   allowed reliable identification of patients at low risk, making them suitable for outpatient management.\n",
        "\n",
        "Consider applying the CHOSEN score to patients with COVID in the emergency department or general medical floor where discharge is being considered.\n",
        "\n",
        "Data inputs should be the most recent available data.\n",
        "\n",
        "**Acknowledgements**\n",
        "\n",
        "CHOSEN was developed by David Levine, MD, and colleagues at Brigham and Women's Hospital and Harvard Medical School, Boston, MA, USA.\n",
        "\n",
        "This code was developed by [Eden Shaveet](mailto:eden.shaveet@tufts.edu) as a deliverable for HIA 225: Python for Health Informatics & Analytics at Tufts University School of Medicine in Spring 2022.\n",
        "\n",
        "An existing [CHOSEN calculator](https://www.mdcalc.com/covid-home-safely-now-chosen-risk-score-covid-19#evidence) developed by David Levine, MD, was used for cross-checking this code."
      ],
      "metadata": {
        "id": "GCsRlBB1Crxu"
      }
    },
    {
      "cell_type": "markdown",
      "source": [
        "###CHOSEN Tool Instructions"
      ],
      "metadata": {
        "id": "_9MGMD_S5TJ4"
      }
    },
    {
      "cell_type": "markdown",
      "source": [
        "####*When prompted by the tool, provide the following information as free-text:*\n",
        "\n",
        "**Is the patient's albumin lab value available?** \n",
        "*   Enter \"yes\" or \"no\"\n",
        "\n",
        "**Patient's Age (in years)** \n",
        "*   Enter a whole number over 18\n",
        "\n",
        "**Patient's SpO2 (as percent)** \n",
        "*   Enter a whole number *without percent symbol (%)*\n",
        "\n",
        "**Patient's albumin level (g/dL)** (only if albumin lab value is available)\n",
        "*   Enter exact measurement, including decimals (i.e. 2.8)\n",
        "\n",
        "**Patient's respiratory rate (breaths per minute)** (only if albumin lab value is *NOT* available)\n",
        "*   Enter a whole number"
      ],
      "metadata": {
        "id": "XNuw5l958sjd"
      }
    },
    {
      "cell_type": "code",
      "source": [
        "#User Inputs\n",
        "lab=input(\"Is the patient's albumin lab value available?\" ).lower()\n",
        "age=input(\"Patient's age: _____ years \")\n",
        "age=int(age)\n",
        "spo2=input(\"Patient's SpO2: _____% \")\n",
        "spo2=int(spo2)\n",
        "if lab==\"yes\":\n",
        "  flag=True\n",
        "  alb=input(\"Patient's albumin level: ____ g/dL \")\n",
        "  alb=float(alb)\n",
        "else:\n",
        "  flag=False\n",
        "  resp=input(\"Patient's respiratory rate (breaths per minute): \")\n",
        "  resp=int(resp)"
      ],
      "metadata": {
        "colab": {
          "base_uri": "https://localhost:8080/"
        },
        "id": "8h3QZMzUAtBP",
        "outputId": "82da0f8e-d640-4dfe-f3e8-befc244b59b9"
      },
      "execution_count": null,
      "outputs": [
        {
          "name": "stdout",
          "output_type": "stream",
          "text": [
            "Is the patient's albumin lab value available?no\n",
            "Patient's age: _____ years 25\n",
            "Patient's SpO2: _____% 98\n",
            "Patient's respiratory rate (breaths per minute): 22\n"
          ]
        }
      ]
    },
    {
      "cell_type": "code",
      "source": [
        "chosen=0\n",
        "#AGE\n",
        "if flag==True:#if labs are available\n",
        "  if age<46:\n",
        "    chosen+=5\n",
        "  elif age<60:\n",
        "    chosen+=2\n",
        "  elif age<74:\n",
        "    chosen+=1\n",
        "  else:\n",
        "    chosen+=0\n",
        "elif flag==False:#if labs are not available\n",
        "  if age<46:\n",
        "    chosen+=12\n",
        "  elif age<60:\n",
        "    chosen+=8\n",
        "  elif age<74:\n",
        "    chosen+=3\n",
        "  else:\n",
        "    chosen+=0\n",
        "  \n",
        "print(chosen)"
      ],
      "metadata": {
        "colab": {
          "base_uri": "https://localhost:8080/"
        },
        "id": "k-SpTjf6DRXu",
        "outputId": "9cb9f187-e27c-41a7-c563-d6122bd27dcc"
      },
      "execution_count": null,
      "outputs": [
        {
          "output_type": "stream",
          "name": "stdout",
          "text": [
            "12\n"
          ]
        }
      ]
    },
    {
      "cell_type": "code",
      "source": [
        "#SPO2\n",
        "if flag==True:#if labs are available\n",
        "  if spo2<94:\n",
        "    chosen+=0\n",
        "  elif spo2<97:\n",
        "    chosen+=9\n",
        "  elif spo2<99:\n",
        "    chosen+=14\n",
        "  else:\n",
        "    chosen+=21\n",
        "elif flag==False:#if labs are not available\n",
        "  if spo2<94:\n",
        "    chosen+=0\n",
        "  elif spo2<97:\n",
        "    chosen+=9\n",
        "  elif spo2<99:\n",
        "    chosen+=15\n",
        "  else:\n",
        "    chosen+=20\n",
        "print(chosen)"
      ],
      "metadata": {
        "colab": {
          "base_uri": "https://localhost:8080/"
        },
        "id": "QLuou-X3OLw8",
        "outputId": "48eb889a-7967-4921-a62a-5358f9c72696"
      },
      "execution_count": null,
      "outputs": [
        {
          "output_type": "stream",
          "name": "stdout",
          "text": [
            "27\n"
          ]
        }
      ]
    },
    {
      "cell_type": "code",
      "source": [
        "#ALBUMIN (only if labs are available)\n",
        "if flag==True:#if labs are available\n",
        "  if alb<2.8:\n",
        "    chosen+=0\n",
        "  elif alb<3.4:\n",
        "    chosen+=5\n",
        "  elif alb<3.8:\n",
        "    chosen+=15\n",
        "  else:\n",
        "    chosen+=29\n",
        "else:\n",
        "  chosen+=0\n",
        "print(chosen)"
      ],
      "metadata": {
        "colab": {
          "base_uri": "https://localhost:8080/"
        },
        "id": "9JJk1hDP1UGB",
        "outputId": "38af0df8-55e5-435d-963c-52f89f6ba705"
      },
      "execution_count": null,
      "outputs": [
        {
          "output_type": "stream",
          "name": "stdout",
          "text": [
            "27\n"
          ]
        }
      ]
    },
    {
      "cell_type": "code",
      "source": [
        "#RESPIRATORY RATE (only if labs are NOT available)\n",
        "if flag==False:#if labs are available\n",
        "  if resp<18:\n",
        "    chosen+=16\n",
        "  elif resp<21:\n",
        "    chosen+=12\n",
        "  elif resp<25:\n",
        "    chosen+=15\n",
        "  else:\n",
        "    chosen+=0\n",
        "else:\n",
        "  chosen+=0\n",
        "print(chosen)"
      ],
      "metadata": {
        "colab": {
          "base_uri": "https://localhost:8080/"
        },
        "id": "uyITNNdq3_pI",
        "outputId": "045d5ed0-e0b2-4311-a133-a45ee5a00f84"
      },
      "execution_count": null,
      "outputs": [
        {
          "output_type": "stream",
          "name": "stdout",
          "text": [
            "42\n"
          ]
        }
      ]
    },
    {
      "cell_type": "code",
      "source": [
        "#Conditional modified CHOSEN Score output\n",
        "if chosen<20:\n",
        "  print(f\"The patient's CHOSEN Score is {chosen}. They are likely unsuitable for discharge. See more at https://pubmed.ncbi.nlm.nih.gov/33274414/\")\n",
        "elif chosen>19:\n",
        "  print(f\"The patient's CHOSEN Score is {chosen}. They are likely suitable for discharge. See more at https://pubmed.ncbi.nlm.nih.gov/33274414/\")\n",
        "else:\n",
        "  print(\"Something went wrong. Try again.\")"
      ],
      "metadata": {
        "colab": {
          "base_uri": "https://localhost:8080/"
        },
        "id": "JXXI7W8e4_YD",
        "outputId": "a125010f-7f42-4ef1-88c7-a8f2a7dc7314"
      },
      "execution_count": null,
      "outputs": [
        {
          "output_type": "stream",
          "name": "stdout",
          "text": [
            "The patient's CHOSEN Score is 42. They are likely suitable for discharge. See more at https://pubmed.ncbi.nlm.nih.gov/33274414/\n"
          ]
        }
      ]
    }
  ]
}
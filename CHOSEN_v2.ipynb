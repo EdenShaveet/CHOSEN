{
  "nbformat": 4,
  "nbformat_minor": 0,
  "metadata": {
    "colab": {
      "name": "CHOSEN_v2.ipynb",
      "provenance": [],
      "authorship_tag": "ABX9TyMT0sogucSfVgE8A7WwZabD"
    },
    "kernelspec": {
      "name": "python3",
      "display_name": "Python 3"
    },
    "language_info": {
      "name": "python"
    }
  },
  "cells": [
    {
      "cell_type": "code",
      "execution_count": null,
      "metadata": {
        "id": "uFMW7NwqDjYg"
      },
      "outputs": [],
      "source": [
        "#User Inputs\n",
        "loop_flag=True\n",
        "while loop_flag==True:\n",
        "  lab=input(\"Is the patient's albumin lab value available? \" ).lower()\n",
        "  if lab!=\"yes\" and lab!=\"no\":\n",
        "    print(\"Enter 'yes' or 'no'\")\n",
        "  else:\n",
        "    loop_flag=False\n",
        "loop_flag=True\n",
        "while loop_flag==True:\n",
        "  age=input(\"Patient's age: _____ years \")\n",
        "  try:\n",
        "    age=int(age)\n",
        "    if age>18 and age<200:\n",
        "      loop_flag=False\n",
        "    else:\n",
        "      print(\"Enter a whole number over 18.\")\n",
        "      loop_flag=True\n",
        "  except:\n",
        "    print(\"Enter a whole number over 18.\")\n",
        "loop_flag=True\n",
        "while loop_flag==True:\n",
        "  spo2=input(\"Patient's SpO2: _____% \")\n",
        "  try:\n",
        "    spo2=int(spo2)\n",
        "    loop_flag=False\n",
        "  except:\n",
        "    print(\"Enter a whole number *without percent symbol (%)\")\n",
        "if lab==\"yes\":\n",
        "  lab_flag=True\n",
        "  loop_flag=True\n",
        "  while loop_flag==True:\n",
        "    alb=input(\"Patient's albumin level: ____ g/dL \")\n",
        "    try:\n",
        "      alb=float(alb)\n",
        "      loop_flag=False\n",
        "    except:\n",
        "      print(\"Enter exact measurement, including decimals (i.e. 2.8)\")\n",
        "else:\n",
        "  lab_flag=False\n",
        "  loop_flag=True\n",
        "  while loop_flag==True:\n",
        "    resp=input(\"Patient's respiratory rate (breaths per minute): \")\n",
        "    try:\n",
        "      resp=int(resp)\n",
        "      loop_flag=False\n",
        "    except:\n",
        "      print(\"Enter a whole number.\")"
      ]
    },
    {
      "cell_type": "code",
      "source": [
        "chosen=0\n",
        "#AGE\n",
        "if lab_flag==True:#if labs are available\n",
        "  if age<46:\n",
        "    chosen+=5\n",
        "  elif age<60:\n",
        "    chosen+=2\n",
        "  elif age<74:\n",
        "    chosen+=1\n",
        "  else:\n",
        "    chosen+=0\n",
        "elif lab_flag==False:#if labs are not available\n",
        "  if age<46:\n",
        "    chosen+=12\n",
        "  elif age<60:\n",
        "    chosen+=8\n",
        "  elif age<74:\n",
        "    chosen+=3\n",
        "  else:\n",
        "    chosen+=0\n",
        "  \n",
        "print(chosen)"
      ],
      "metadata": {
        "id": "dcGVDaRJDvvR"
      },
      "execution_count": null,
      "outputs": []
    },
    {
      "cell_type": "code",
      "source": [
        "#SPO2\n",
        "if lab_flag==True:#if labs are available\n",
        "  if spo2<94:\n",
        "    chosen+=0\n",
        "  elif spo2<97:\n",
        "    chosen+=9\n",
        "  elif spo2<99:\n",
        "    chosen+=14\n",
        "  else:\n",
        "    chosen+=21\n",
        "elif lab_flag==False:#if labs are not available\n",
        "  if spo2<94:\n",
        "    chosen+=0\n",
        "  elif spo2<97:\n",
        "    chosen+=9\n",
        "  elif spo2<99:\n",
        "    chosen+=15\n",
        "  else:\n",
        "    chosen+=20\n",
        "print(chosen)"
      ],
      "metadata": {
        "id": "JVeeQ7roDzXc"
      },
      "execution_count": null,
      "outputs": []
    },
    {
      "cell_type": "code",
      "source": [
        "#ALBUMIN (only if labs are available)\n",
        "if lab_flag==True:#if labs are available\n",
        "  if alb<2.8:\n",
        "    chosen+=0\n",
        "  elif alb<3.4:\n",
        "    chosen+=5\n",
        "  elif alb<3.8:\n",
        "    chosen+=15\n",
        "  else:\n",
        "    chosen+=29\n",
        "else:\n",
        "  chosen+=0\n",
        "print(chosen)"
      ],
      "metadata": {
        "id": "1-rWCYq4D0Lg"
      },
      "execution_count": null,
      "outputs": []
    },
    {
      "cell_type": "code",
      "source": [
        "#RESPIRATORY RATE (only if labs are NOT available)\n",
        "if lab_flag==False:#if labs are available\n",
        "  if resp<18:\n",
        "    chosen+=16\n",
        "  elif resp<21:\n",
        "    chosen+=12\n",
        "  elif resp<25:\n",
        "    chosen+=15\n",
        "  else:\n",
        "    chosen+=0\n",
        "else:\n",
        "  chosen+=0\n",
        "print(chosen)"
      ],
      "metadata": {
        "id": "URw_hxvfD2an"
      },
      "execution_count": null,
      "outputs": []
    },
    {
      "cell_type": "code",
      "source": [
        "#Conditional modified CHOSEN Score output\n",
        "if chosen<20:\n",
        "  print(f\"The patient's CHOSEN Score is {chosen}. They are likely unsuitable for discharge. See more at https://pubmed.ncbi.nlm.nih.gov/33274414/\")\n",
        "elif chosen>19:\n",
        "  print(f\"The patient's CHOSEN Score is {chosen}. They are likely suitable for discharge. See more at https://pubmed.ncbi.nlm.nih.gov/33274414/\")\n",
        "else:\n",
        "  print(\"Something went wrong. Try again.\")"
      ],
      "metadata": {
        "id": "Rq5rQ8K6D4hu"
      },
      "execution_count": null,
      "outputs": []
    }
  ]
}